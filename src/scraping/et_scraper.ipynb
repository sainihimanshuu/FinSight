{
 "cells": [
  {
   "cell_type": "markdown",
   "metadata": {},
   "source": [
    "ET will be used to get company specific and market/economic news.\n",
    "Company names will be taken from the bse and nse scraper."
   ]
  },
  {
   "cell_type": "code",
   "execution_count": 3,
   "metadata": {},
   "outputs": [],
   "source": [
    "from selenium import webdriver\n",
    "from selenium.webdriver.support.ui import WebDriverWait\n",
    "from selenium.webdriver.support import expected_conditions as EC\n",
    "from selenium.webdriver.common.by import By\n",
    "import time\n",
    "from selenium.common.exceptions import NoSuchElementException"
   ]
  },
  {
   "cell_type": "markdown",
   "metadata": {},
   "source": [
    "First we will scrape company specific articles"
   ]
  },
  {
   "cell_type": "code",
   "execution_count": null,
   "metadata": {},
   "outputs": [],
   "source": [
    "%store -r nse_data\n",
    "%store -r bse_data\n",
    "#combined list of companies containg only unique value\n",
    "#convert each list to set to apply union operator\n",
    "company_names=list(set(nse_data[\"company_names\"]) | set(bse_data[\"company_names\"]))\n",
    "company_names[0:5]"
   ]
  },
  {
   "cell_type": "code",
   "execution_count": null,
   "metadata": {},
   "outputs": [],
   "source": [
    "et_url = \"https://economictimes.indiatimes.com/\"\n",
    "driver=webdriver.Chrome()\n",
    "driver.get(et_url)\n",
    "search_box=WebDriverWait(driver, 30).until(EC.element_to_be_clickable((By.ID, \"ticker_newsearch\")))\n",
    "article_links=[]\n",
    "for name in company_names:\n",
    "    search_box.send_keys(name)\n",
    "    time.sleep(3)\n",
    "    result_items = WebDriverWait(driver, 10).until(EC.visibility_of_all_elements_located((By.CSS_SELECTOR, \".searchListAll ul li\")))\n",
    "    result_items[1].click()\n",
    "\n",
    "    WebDriverWait(driver, 30).until(EC.number_of_windows_to_be(2))\n",
    "    first_window=driver.current_window_handle\n",
    "    for window_handle in driver.window_handles:\n",
    "        if window_handle!=first_window:\n",
    "            driver.switch_to.window(window_handle)\n",
    "            break\n",
    "\n",
    "    more_news_link = WebDriverWait(driver, 10).until(EC.visibility_of_element_located((By.CSS_SELECTOR, \".more_section a\")))\n",
    "    driver.execute_script(\"arguments[0].click();\", more_news_link) # for some reason more_new_link.click() does not work, and driver.execute for result_items[1] does not work\n",
    "\n",
    "    WebDriverWait(driver, 30).until(EC.number_of_windows_to_be(3))\n",
    "    second_window=driver.current_window_handle\n",
    "    for window_handle in driver.window_handles:\n",
    "        if window_handle!=second_window and window_handle!=first_window:\n",
    "            driver.switch_to.window(window_handle)\n",
    "            break\n",
    "\n",
    "    def closeTabs():\n",
    "        driver.close();\n",
    "        driver.switch_to.window(second_window)\n",
    "        driver.close()\n",
    "        driver.switch_to.window(first_window)\n",
    "\n",
    "    articles_container=WebDriverWait(driver, 30).until(EC.visibility_of_all_elements_located((By.CSS_SELECTOR, \".updates-container .all\")))\n",
    "    articles=articles_container[0].find_elements(By.CSS_SELECTOR, \".eachStory\")\n",
    "    if len(articles)==0:\n",
    "        closeTabs()\n",
    "        continue\n",
    "\n",
    "    link=0\n",
    "    for article in articles:\n",
    "        print(link)\n",
    "        link+=1\n",
    "        a_tag=article.find_element(By.TAG_NAME, \"a\")\n",
    "        href=a_tag.get_dom_attribute(\"href\")\n",
    "        #don't include pdfs\n",
    "        if href[-3:]==\"pdf\":\n",
    "            continue\n",
    "        article_links.append(href)\n",
    "    closeTabs()\n",
    "driver.close()"
   ]
  },
  {
   "cell_type": "code",
   "execution_count": null,
   "metadata": {},
   "outputs": [],
   "source": [
    "print(len(article_links))"
   ]
  },
  {
   "cell_type": "markdown",
   "metadata": {},
   "source": [
    "now we will scrape articles on stock news, economy indicators and economy"
   ]
  },
  {
   "cell_type": "code",
   "execution_count": 4,
   "metadata": {},
   "outputs": [],
   "source": [
    "def getLinks(url, links):\n",
    "    driver=webdriver.Chrome()\n",
    "    driver.get(url);\n",
    "    last_height = driver.execute_script(\"return document.body.scrollHeight\")\n",
    "    #lazy loading, all articles were not loading, so scrolled\n",
    "    while True:\n",
    "        driver.execute_script(\"window.scrollTo(0, document.body.scrollHeight);\")\n",
    "        time.sleep(3)\n",
    "        new_height = driver.execute_script(\"return document.body.scrollHeight\")\n",
    "        if new_height == last_height:\n",
    "            break\n",
    "        last_height = new_height\n",
    "    stock_news_articles=WebDriverWait(driver, 30).until(EC.visibility_of_all_elements_located((By.CSS_SELECTOR, \".tabdata .eachStory\")))\n",
    "    print(len(stock_news_articles))\n",
    "    for article in stock_news_articles:\n",
    "        #each story contains either span tag or a tag\n",
    "        try:\n",
    "            a_tag = article.find_element(By.TAG_NAME, \"a\")\n",
    "            href = a_tag.get_attribute(\"href\") \n",
    "        except NoSuchElementException:\n",
    "            span_tag = article.find_element(By.TAG_NAME, \"span\")\n",
    "            href = span_tag.get_attribute(\"href\")\n",
    "        if href[-3:]==\"pdf\":\n",
    "            continue\n",
    "        links.append(href)\n",
    "    driver.close()"
   ]
  },
  {
   "cell_type": "code",
   "execution_count": 5,
   "metadata": {},
   "outputs": [
    {
     "name": "stdout",
     "output_type": "stream",
     "text": [
      "48\n",
      "48\n",
      "48\n",
      "144\n"
     ]
    }
   ],
   "source": [
    "urls=[\n",
    "    \"https://economictimes.indiatimes.com/markets/stocks/news/\",\n",
    "    \"https://economictimes.indiatimes.com/news/economy/indicators\",\n",
    "    \"https://economictimes.indiatimes.com/news/economy/articlelist/1286551815.cms\"\n",
    "]\n",
    "market_economic_news=[]\n",
    "for i in range(3):\n",
    "    getLinks(urls[i], market_economic_news)\n",
    "print(len(market_economic_news))"
   ]
  }
 ],
 "metadata": {
  "kernelspec": {
   "display_name": "Python 3",
   "language": "python",
   "name": "python3"
  },
  "language_info": {
   "codemirror_mode": {
    "name": "ipython",
    "version": 3
   },
   "file_extension": ".py",
   "mimetype": "text/x-python",
   "name": "python",
   "nbconvert_exporter": "python",
   "pygments_lexer": "ipython3",
   "version": "3.11.3"
  }
 },
 "nbformat": 4,
 "nbformat_minor": 2
}
