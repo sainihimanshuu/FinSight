{
 "cells": [
  {
   "cell_type": "code",
   "execution_count": null,
   "metadata": {},
   "outputs": [],
   "source": [
    "from bs4 import BeautifulSoup\n",
    "from selenium import webdriver\n",
    "from selenium.webdriver.support.ui import WebDriverWait\n",
    "from selenium.webdriver.support import expected_conditions as EC\n",
    "from selenium.webdriver.common.by import By\n",
    "from selenium.webdriver import ActionChains"
   ]
  },
  {
   "cell_type": "code",
   "execution_count": null,
   "metadata": {},
   "outputs": [],
   "source": [
    "driver = webdriver.Chrome();\n",
    "url=\"https://www.bseindia.com/markets/equity/EQReports/MarketWatch.html?index_code=16\"\n",
    "driver.get(url)\n",
    "#wait until the submit button gets rendered\n",
    "submit_button = WebDriverWait(driver, 30).until(EC.element_to_be_clickable((By.CSS_SELECTOR, \".btn.btn-default\")))\n",
    "ActionChains(driver).click(submit_button).perform()\n",
    "#wait until the result after clicking submit_button renders\n",
    "WebDriverWait(driver, 30).until(EC.presence_of_element_located((By.CSS_SELECTOR, \".tdcolumn.text-left\")))\n",
    "page_contents=driver.page_source"
   ]
  },
  {
   "cell_type": "code",
   "execution_count": null,
   "metadata": {},
   "outputs": [],
   "source": [
    "if \"ZOMATO\" not in page_contents:\n",
    "    raise Exception(\"Page after submit not loaded\")"
   ]
  },
  {
   "cell_type": "markdown",
   "metadata": {},
   "source": [
    "Things that I want to extract - \n",
    "open, high, low, name"
   ]
  },
  {
   "cell_type": "code",
   "execution_count": null,
   "metadata": {},
   "outputs": [],
   "source": [
    "soup = BeautifulSoup(page_contents, \"html.parser\")\n",
    "bse_data = {\n",
    "    \"company_codes\": [],\n",
    "    \"company_names\":[],\n",
    "    \"opening_price\":[],\n",
    "    \"high_price\":[],\n",
    "    \"low_price\":[],\n",
    "}\n",
    "rows = soup.find_all(\"tr\", attrs={\"class\": \"ng-scope\"})\n",
    "\n",
    "#for loop to populate bse_data\n",
    "for row in rows:\n",
    "    valid_tag_count=0\n",
    "    for child in row.children:\n",
    "        if(valid_tag_count==6):\n",
    "            break\n",
    "        if(child.name is not None):\n",
    "            if(valid_tag_count==0):\n",
    "                bse_data[\"company_codes\"].append(child.text.strip())\n",
    "            elif(valid_tag_count==1):\n",
    "                bse_data[\"company_names\"].append(child.text.strip())\n",
    "            elif(valid_tag_count==3):\n",
    "                bse_data[\"opening_price\"].append(child.text.strip())\n",
    "            elif(valid_tag_count==4):\n",
    "                bse_data[\"high_price\"].append(child.text.strip())\n",
    "            elif(valid_tag_count==5):\n",
    "                bse_data[\"low_price\"].append(child.text.strip())\n",
    "            valid_tag_count+=1"
   ]
  },
  {
   "cell_type": "code",
   "execution_count": null,
   "metadata": {},
   "outputs": [],
   "source": [
    "import pandas as pd\n",
    "df = pd.DataFrame.from_dict(bse_data)\n",
    "print(df)"
   ]
  },
  {
   "cell_type": "code",
   "execution_count": null,
   "metadata": {},
   "outputs": [
    {
     "name": "stdout",
     "output_type": "stream",
     "text": [
      "Stored 'bse_data' (dict)\n"
     ]
    }
   ],
   "source": [
    "#close driver and export bse_data\n",
    "driver.quit()\n",
    "%store bse_data"
   ]
  }
 ],
 "metadata": {
  "kernelspec": {
   "display_name": "Python 3",
   "language": "python",
   "name": "python3"
  },
  "language_info": {
   "codemirror_mode": {
    "name": "ipython",
    "version": 3
   },
   "file_extension": ".py",
   "mimetype": "text/x-python",
   "name": "python",
   "nbconvert_exporter": "python",
   "pygments_lexer": "ipython3",
   "version": "3.11.3"
  }
 },
 "nbformat": 4,
 "nbformat_minor": 2
}
