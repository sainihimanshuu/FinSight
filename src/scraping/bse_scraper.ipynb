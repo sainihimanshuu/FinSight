{
 "cells": [
  {
   "cell_type": "code",
   "execution_count": null,
   "metadata": {},
   "outputs": [],
   "source": [
    "from bs4 import BeautifulSoup\n",
    "from selenium import webdriver\n",
    "from selenium.webdriver.support.ui import WebDriverWait\n",
    "from selenium.webdriver.support import expected_conditions as EC\n",
    "from selenium.webdriver.common.by import By\n",
    "from selenium.webdriver import ActionChains"
   ]
  },
  {
   "cell_type": "code",
   "execution_count": null,
   "metadata": {},
   "outputs": [],
   "source": [
    "driver = webdriver.Chrome();\n",
    "url=\"https://www.bseindia.com/markets/equity/EQReports/MarketWatch.html?index_code=16\"\n",
    "driver.get(url)\n",
    "#wait until the submit button gets rendered\n",
    "submit_button = WebDriverWait(driver, 30).until(EC.element_to_be_clickable((By.CSS_SELECTOR, \".btn.btn-default\")))\n",
    "ActionChains(driver).click(submit_button).perform()\n",
    "#wait until the result after clicking submit_button renders\n",
    "WebDriverWait(driver, 30).until(EC.presence_of_element_located((By.CSS_SELECTOR, \".tdcolumn.text-left\")))\n",
    "page_contents=driver.page_source"
   ]
  },
  {
   "cell_type": "code",
   "execution_count": null,
   "metadata": {},
   "outputs": [],
   "source": [
    "if \"ZOMATO\" not in page_contents:\n",
    "    raise Exception(\"Page after submit not loaded\")"
   ]
  },
  {
   "cell_type": "markdown",
   "metadata": {},
   "source": [
    "Things that I want to extract - \n",
    "open, high, low, name"
   ]
  },
  {
   "cell_type": "code",
   "execution_count": null,
   "metadata": {},
   "outputs": [],
   "source": [
    "soup = BeautifulSoup(page_contents, \"html.parser\")\n",
    "bse_data = {\n",
    "    \"company_codes\": [],\n",
    "    \"company_names\":[],\n",
    "    \"opening_price\":[],\n",
    "    \"high_price\":[],\n",
    "    \"low_price\":[],\n",
    "}\n",
    "rows = soup.find_all(\"tr\", attrs={\"class\": \"ng-scope\"})\n",
    "\n",
    "#for loop to populate bse_data\n",
    "for row in rows:\n",
    "    valid_tag_count=0\n",
    "    for child in row.children:\n",
    "        if(valid_tag_count==6):\n",
    "            break\n",
    "        if(child.name is not None):\n",
    "            if(valid_tag_count==0):\n",
    "                bse_data[\"company_codes\"].append(child.text.strip())\n",
    "            elif(valid_tag_count==1):\n",
    "                bse_data[\"company_names\"].append(child.text.strip())\n",
    "            elif(valid_tag_count==3):\n",
    "                bse_data[\"opening_price\"].append(child.text.strip())\n",
    "            elif(valid_tag_count==4):\n",
    "                bse_data[\"high_price\"].append(child.text.strip())\n",
    "            elif(valid_tag_count==5):\n",
    "                bse_data[\"low_price\"].append(child.text.strip())\n",
    "            valid_tag_count+=1"
   ]
  },
  {
   "cell_type": "code",
   "execution_count": null,
   "metadata": {},
   "outputs": [],
   "source": [
    "import pandas as pd\n",
    "df = pd.DataFrame.from_dict(bse_data)\n",
    "print(df)"
   ]
  },
  {
   "cell_type": "code",
   "execution_count": null,
   "metadata": {},
   "outputs": [],
   "source": [
    "#close driver and export bse_data\n",
    "driver.quit()\n",
    "%store bse_data"
   ]
  },
  {
   "cell_type": "code",
   "execution_count": null,
   "metadata": {},
   "outputs": [],
   "source": [
    "from selenium.webdriver.support.select import Select\n",
    "import time\n",
    "import pandas as pd\n",
    "driver = webdriver.Chrome();\n",
    "one_year_data_bse = {\n",
    "    \"date\": [],\n",
    "    \"open\": [],\n",
    "    \"high\": [],\n",
    "    \"low\": [],\n",
    "    \"close\": []\n",
    "}\n",
    "one_year_url=\"https://www.bseindia.com/indices/IndexArchiveData.html\"\n",
    "driver.get(one_year_url)\n",
    "\n",
    "select_index=WebDriverWait(driver, 30).until(EC.element_to_be_clickable((By.ID, \"ddlIndex\")))\n",
    "time.sleep(2)\n",
    "select=Select(select_index);\n",
    "select.select_by_visible_text('BSE SENSEX')\n",
    "select_index=WebDriverWait(driver, 30).until(EC.visibility_of_element_located((By.ID, \"ddlPeriodtype\")))\n",
    "select=Select(select_index);\n",
    "select.select_by_visible_text('Daily')\n",
    "\n",
    "end_dates=[\"30\", \"31\", \"30\", \"31\", \"31\", \"30\", \"31\", \"30\", \"31\", \"31\", \"28\", \"31\"]\n",
    "month=[\"04\", \"05\", \"06\", \"07\", \"08\", \"09\", \"10\", \"11\", \"12\", \"01\", \"02\", \"03\"]\n",
    "year=[\"2024\", \"2025\"]\n",
    "\n",
    "y_ind=0\n",
    "for i in range(len(end_dates)):\n",
    "    if(month[i]==\"01\"):\n",
    "        y_ind=1\n",
    "    from_element=WebDriverWait(driver, 30).until(EC.visibility_of_element_located((By.ID, \"txtFromDt\")))\n",
    "    to_element=WebDriverWait(driver, 30).until(EC.visibility_of_element_located((By.ID, \"txtToDt\")))\n",
    "    start_date=\"01/\"+month[i]+\"/\"+year[y_ind]\n",
    "    driver.execute_script(\"arguments[0].value = arguments[1];\", from_element, start_date)\n",
    "    driver.execute_script(\"arguments[0].dispatchEvent(new Event('change'));\", from_element)\n",
    "    end_date=end_dates[i]+\"/\"+month[i]+\"/\"+year[y_ind]\n",
    "    driver.execute_script(\"arguments[0].value = arguments[1];\", to_element, end_date)\n",
    "    driver.execute_script(\"arguments[0].dispatchEvent(new Event('change'));\", to_element)\n",
    "    submit_button = WebDriverWait(driver, 30).until(EC.element_to_be_clickable((By.CSS_SELECTOR, \".btn.btn-default\")))\n",
    "    driver.execute_script(\"arguments[0].click();\", submit_button)\n",
    "    \n",
    "    table=WebDriverWait(driver, 30).until(EC.visibility_of_element_located((By.CSS_SELECTOR, \"table tbody table tbody\")))\n",
    "    time.sleep(5)\n",
    "    rows = table.find_elements(By.CSS_SELECTOR, \"tr\")\n",
    "    for index in range(len(rows)):\n",
    "        row = table.find_elements(By.CSS_SELECTOR, \"tr\")\n",
    "        cols=row[index].find_elements(By.TAG_NAME, \"td\")\n",
    "        for j in range(len(cols)):\n",
    "            if(j==0):\n",
    "                one_year_data_bse[\"date\"].append(cols[j].text.strip())\n",
    "            if(j==1):\n",
    "                one_year_data_bse[\"open\"].append(cols[j].text.strip())\n",
    "            if(j==2):\n",
    "                one_year_data_bse[\"high\"].append(cols[j].text.strip())\n",
    "            if(j==3):\n",
    "                one_year_data_bse[\"low\"].append(cols[j].text.strip())\n",
    "            if(j==4):\n",
    "                one_year_data_bse[\"close\"].append(cols[j].text.strip())\n",
    "df=pd.DataFrame.from_dict(one_year_data_bse)\n",
    "df.head()"
   ]
  },
  {
   "cell_type": "code",
   "execution_count": null,
   "metadata": {},
   "outputs": [],
   "source": [
    "driver.quit()\n",
    "%store one_year_data_bse"
   ]
  }
 ],
 "metadata": {
  "kernelspec": {
   "display_name": "Python 3",
   "language": "python",
   "name": "python3"
  },
  "language_info": {
   "codemirror_mode": {
    "name": "ipython",
    "version": 3
   },
   "file_extension": ".py",
   "mimetype": "text/x-python",
   "name": "python",
   "nbconvert_exporter": "python",
   "pygments_lexer": "ipython3",
   "version": "3.11.3"
  }
 },
 "nbformat": 4,
 "nbformat_minor": 2
}
