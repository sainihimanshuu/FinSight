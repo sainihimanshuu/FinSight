{
 "cells": [
  {
   "cell_type": "code",
   "execution_count": null,
   "metadata": {},
   "outputs": [],
   "source": [
    "from bs4 import BeautifulSoup\n",
    "from selenium import webdriver\n",
    "from selenium.webdriver.support.ui import WebDriverWait\n",
    "from selenium.webdriver.support import expected_conditions as EC\n",
    "from selenium.webdriver.common.by import By"
   ]
  },
  {
   "cell_type": "code",
   "execution_count": null,
   "metadata": {},
   "outputs": [],
   "source": [
    "driver = webdriver.Chrome();\n",
    "url = \"https://www.nseindia.com/market-data/live-equity-market?symbol=NIFTY%2050\"\n",
    "driver.get(url)\n",
    "#wait until the table gets rendered\n",
    "WebDriverWait(driver, 30).until(EC.presence_of_element_located((By.ID, \"equityStockTable\")))\n",
    "page_contents=driver.page_source"
   ]
  },
  {
   "cell_type": "code",
   "execution_count": null,
   "metadata": {},
   "outputs": [],
   "source": [
    "if \"TATACONSUM\" not in page_contents:\n",
    "    raise Exception(\"Page after submit not loaded\")"
   ]
  },
  {
   "cell_type": "code",
   "execution_count": null,
   "metadata": {},
   "outputs": [],
   "source": [
    "soup = BeautifulSoup(page_contents, \"html.parser\")\n",
    "nse_data = {\n",
    "    \"company_names\":[],\n",
    "    \"opening_price\":[],\n",
    "    \"high_price\":[],\n",
    "    \"low_price\":[],\n",
    "}\n",
    "table_container = soup.find(\"table\", attrs={\"id\": \"equityStockTable\"}).find(\"tbody\")\n",
    "rows = list(table_container.children)\n",
    "\n",
    "#for loop to populate nse_data\n",
    "for i in range(len(rows)):\n",
    "    if i==0: continue\n",
    "    valid_tag_count=0\n",
    "    for child in rows[i].children:\n",
    "        if(valid_tag_count==4):\n",
    "            break\n",
    "        if(child.name is not None):\n",
    "            if(valid_tag_count==0):\n",
    "                nse_data[\"company_names\"].append(child.text.strip())\n",
    "            elif(valid_tag_count==1):\n",
    "                nse_data[\"opening_price\"].append(child.text.strip())\n",
    "            elif(valid_tag_count==2):\n",
    "                nse_data[\"high_price\"].append(child.text.strip())\n",
    "            elif(valid_tag_count==3):\n",
    "                nse_data[\"low_price\"].append(child.text.strip())\n",
    "            valid_tag_count+=1"
   ]
  },
  {
   "cell_type": "code",
   "execution_count": null,
   "metadata": {},
   "outputs": [],
   "source": [
    "import pandas as pd\n",
    "df = pd.DataFrame.from_dict(nse_data)\n",
    "print(df)"
   ]
  },
  {
   "cell_type": "code",
   "execution_count": 68,
   "metadata": {},
   "outputs": [
    {
     "name": "stdout",
     "output_type": "stream",
     "text": [
      "Stored 'nse_data' (dict)\n"
     ]
    }
   ],
   "source": [
    "#close driver and export bse_data\n",
    "driver.quit()\n",
    "%store nse_data"
   ]
  }
 ],
 "metadata": {
  "kernelspec": {
   "display_name": "Python 3",
   "language": "python",
   "name": "python3"
  },
  "language_info": {
   "codemirror_mode": {
    "name": "ipython",
    "version": 3
   },
   "file_extension": ".py",
   "mimetype": "text/x-python",
   "name": "python",
   "nbconvert_exporter": "python",
   "pygments_lexer": "ipython3",
   "version": "3.11.3"
  }
 },
 "nbformat": 4,
 "nbformat_minor": 2
}
