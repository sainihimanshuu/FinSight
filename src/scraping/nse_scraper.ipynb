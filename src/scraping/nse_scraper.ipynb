{
 "cells": [
  {
   "cell_type": "code",
   "execution_count": null,
   "metadata": {},
   "outputs": [],
   "source": [
    "from bs4 import BeautifulSoup\n",
    "from selenium import webdriver\n",
    "from selenium.webdriver.support.ui import WebDriverWait\n",
    "from selenium.webdriver.support import expected_conditions as EC\n",
    "from selenium.webdriver.common.by import By"
   ]
  },
  {
   "cell_type": "code",
   "execution_count": null,
   "metadata": {},
   "outputs": [],
   "source": [
    "driver = webdriver.Chrome()\n",
    "url = \"https://www.nseindia.com/market-data/live-equity-market?symbol=NIFTY%2050\"\n",
    "driver.get(url)\n",
    "#wait until the table gets rendered\n",
    "WebDriverWait(driver, 30).until(EC.presence_of_element_located((By.ID, \"equityStockTable\")))\n",
    "page_contents=driver.page_source"
   ]
  },
  {
   "cell_type": "code",
   "execution_count": null,
   "metadata": {},
   "outputs": [],
   "source": [
    "if \"TATACONSUM\" not in page_contents:\n",
    "    raise Exception(\"Page after submit not loaded\")"
   ]
  },
  {
   "cell_type": "code",
   "execution_count": null,
   "metadata": {},
   "outputs": [],
   "source": [
    "soup = BeautifulSoup(page_contents, \"html.parser\")\n",
    "nse_data = {\n",
    "    \"company_names\":[],\n",
    "    \"opening_price\":[],\n",
    "    \"high_price\":[],\n",
    "    \"low_price\":[],\n",
    "}\n",
    "table_container = soup.find(\"table\", attrs={\"id\": \"equityStockTable\"}).find(\"tbody\")\n",
    "rows = list(table_container.children)\n",
    "\n",
    "#for loop to populate nse_data\n",
    "for i in range(len(rows)):\n",
    "    if i==0: continue\n",
    "    valid_tag_count=0\n",
    "    for child in rows[i].children:\n",
    "        if(valid_tag_count==4):\n",
    "            break\n",
    "        if(child.name is not None):\n",
    "            if(valid_tag_count==0):\n",
    "                nse_data[\"company_names\"].append(child.text.strip())\n",
    "            elif(valid_tag_count==1):\n",
    "                nse_data[\"opening_price\"].append(child.text.strip())\n",
    "            elif(valid_tag_count==2):\n",
    "                nse_data[\"high_price\"].append(child.text.strip())\n",
    "            elif(valid_tag_count==3):\n",
    "                nse_data[\"low_price\"].append(child.text.strip())\n",
    "            valid_tag_count+=1"
   ]
  },
  {
   "cell_type": "code",
   "execution_count": null,
   "metadata": {},
   "outputs": [],
   "source": [
    "import pandas as pd\n",
    "df = pd.DataFrame.from_dict(nse_data)\n",
    "print(df)"
   ]
  },
  {
   "cell_type": "code",
   "execution_count": null,
   "metadata": {},
   "outputs": [],
   "source": [
    "#close driver and export bse_data\n",
    "driver.quit()\n",
    "%store nse_data"
   ]
  },
  {
   "cell_type": "code",
   "execution_count": null,
   "metadata": {},
   "outputs": [],
   "source": [
    "import time\n",
    "import pandas as pd\n",
    "driver = webdriver.Chrome();\n",
    "one_year_data_nse = {\n",
    "    \"date\": [],\n",
    "    \"open\": [],\n",
    "    \"high\": [],\n",
    "    \"low\": [],\n",
    "    \"close\": []\n",
    "}\n",
    "one_year_url=\"https://www.nseindia.com/reports-indices-historical-index-data\"\n",
    "driver.get(one_year_url)\n",
    "\n",
    "select_element=WebDriverWait(driver, 30).until(EC.visibility_of_element_located((By.ID, \"hpReportIndexTypeSearchInput\")))\n",
    "time.sleep(2)\n",
    "select_element.click()\n",
    "\n",
    "options=select_element.find_elements(By.TAG_NAME, \"option\")\n",
    "for option in options:\n",
    "    if option.text.strip()==\"NIFTY 50\":\n",
    "        option.click()\n",
    "        break\n",
    "\n",
    "time_filter_options=driver.find_elements(By.CSS_SELECTOR, \"#hrFilterContainer .col-md-12 ul li\")\n",
    "for time_option in time_filter_options:\n",
    "    if time_option.text.strip()==\"1Y\":\n",
    "        time_option.click()\n",
    "        break\n",
    "\n",
    "table=WebDriverWait(driver, 30).until(EC.visibility_of_element_located((By.CSS_SELECTOR, \"#historic-repot-table-reference tbody\")))\n",
    "time.sleep(5)\n",
    "rows = table.find_elements(By.CSS_SELECTOR, \"tbody tr\")\n",
    "print(\"row count:\", len(rows))\n",
    "time.sleep(3)\n",
    "for index in range(len(rows)):\n",
    "    row = table.find_elements(By.CSS_SELECTOR, \"tbody tr\")\n",
    "    cols = row[index].find_elements(By.TAG_NAME, \"td\")\n",
    "    for i in range(5):\n",
    "        if(i==0):\n",
    "            one_year_data_nse[\"date\"].append(cols[i].text.strip())\n",
    "        if(i==1):\n",
    "            one_year_data_nse[\"open\"].append(cols[i].text.strip())\n",
    "        if(i==2):\n",
    "            one_year_data_nse[\"high\"].append(cols[i].text.strip())\n",
    "        if(i==3):\n",
    "            one_year_data_nse[\"low\"].append(cols[i].text.strip())\n",
    "        if(i==4):\n",
    "            one_year_data_nse[\"close\"].append(cols[i].text.strip())\n",
    "df=pd.DataFrame.from_dict(one_year_data_nse)\n",
    "df.head()"
   ]
  },
  {
   "cell_type": "code",
   "execution_count": null,
   "metadata": {},
   "outputs": [],
   "source": [
    "driver.quit()\n",
    "%store one_year_data_nse"
   ]
  }
 ],
 "metadata": {
  "kernelspec": {
   "display_name": "Python 3",
   "language": "python",
   "name": "python3"
  },
  "language_info": {
   "codemirror_mode": {
    "name": "ipython",
    "version": 3
   },
   "file_extension": ".py",
   "mimetype": "text/x-python",
   "name": "python",
   "nbconvert_exporter": "python",
   "pygments_lexer": "ipython3",
   "version": "3.11.3"
  }
 },
 "nbformat": 4,
 "nbformat_minor": 2
}
