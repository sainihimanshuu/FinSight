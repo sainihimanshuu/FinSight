{
 "cells": [
  {
   "cell_type": "code",
   "execution_count": 1,
   "metadata": {},
   "outputs": [],
   "source": [
    "%store -r one_year_data_nse\n",
    "%store -r one_year_data_bse"
   ]
  },
  {
   "cell_type": "code",
   "execution_count": 2,
   "metadata": {},
   "outputs": [],
   "source": [
    "import pandas as pd\n",
    "nse=pd.DataFrame.from_dict(one_year_data_nse)\n",
    "bse=pd.DataFrame.from_dict(one_year_data_bse)\n",
    "datas=[nse, bse]"
   ]
  },
  {
   "cell_type": "code",
   "execution_count": 18,
   "metadata": {},
   "outputs": [
    {
     "name": "stdout",
     "output_type": "stream",
     "text": [
      "250\n"
     ]
    },
    {
     "data": {
      "text/html": [
       "<div>\n",
       "<style scoped>\n",
       "    .dataframe tbody tr th:only-of-type {\n",
       "        vertical-align: middle;\n",
       "    }\n",
       "\n",
       "    .dataframe tbody tr th {\n",
       "        vertical-align: top;\n",
       "    }\n",
       "\n",
       "    .dataframe thead th {\n",
       "        text-align: right;\n",
       "    }\n",
       "</style>\n",
       "<table border=\"1\" class=\"dataframe\">\n",
       "  <thead>\n",
       "    <tr style=\"text-align: right;\">\n",
       "      <th></th>\n",
       "      <th>Pivot Point</th>\n",
       "      <th>Support Level 1</th>\n",
       "      <th>Support Level 2</th>\n",
       "      <th>Resistance Level 1</th>\n",
       "      <th>Resistance Level 2</th>\n",
       "    </tr>\n",
       "  </thead>\n",
       "  <tbody>\n",
       "    <tr>\n",
       "      <th>1970-01-01 00:00:00.000000000</th>\n",
       "      <td>22434.083333</td>\n",
       "      <td>22347.066667</td>\n",
       "      <td>22259.483333</td>\n",
       "      <td>22521.666667</td>\n",
       "      <td>22608.683333</td>\n",
       "    </tr>\n",
       "    <tr>\n",
       "      <th>1970-01-01 00:00:00.000000001</th>\n",
       "      <td>22479.150000</td>\n",
       "      <td>22339.300000</td>\n",
       "      <td>22163.950000</td>\n",
       "      <td>22654.500000</td>\n",
       "      <td>22794.350000</td>\n",
       "    </tr>\n",
       "    <tr>\n",
       "      <th>1970-01-01 00:00:00.000000002</th>\n",
       "      <td>22492.966667</td>\n",
       "      <td>22448.333333</td>\n",
       "      <td>22382.966667</td>\n",
       "      <td>22558.333333</td>\n",
       "      <td>22602.966667</td>\n",
       "    </tr>\n",
       "    <tr>\n",
       "      <th>1970-01-01 00:00:00.000000003</th>\n",
       "      <td>22637.983333</td>\n",
       "      <td>22578.666667</td>\n",
       "      <td>22491.033333</td>\n",
       "      <td>22725.616667</td>\n",
       "      <td>22784.933333</td>\n",
       "    </tr>\n",
       "    <tr>\n",
       "      <th>1970-01-01 00:00:00.000000004</th>\n",
       "      <td>22674.466667</td>\n",
       "      <td>22580.533333</td>\n",
       "      <td>22518.316667</td>\n",
       "      <td>22736.683333</td>\n",
       "      <td>22830.616667</td>\n",
       "    </tr>\n",
       "  </tbody>\n",
       "</table>\n",
       "</div>"
      ],
      "text/plain": [
       "                                Pivot Point  Support Level 1  Support Level 2  \\\n",
       "1970-01-01 00:00:00.000000000  22434.083333     22347.066667     22259.483333   \n",
       "1970-01-01 00:00:00.000000001  22479.150000     22339.300000     22163.950000   \n",
       "1970-01-01 00:00:00.000000002  22492.966667     22448.333333     22382.966667   \n",
       "1970-01-01 00:00:00.000000003  22637.983333     22578.666667     22491.033333   \n",
       "1970-01-01 00:00:00.000000004  22674.466667     22580.533333     22518.316667   \n",
       "\n",
       "                               Resistance Level 1  Resistance Level 2  \n",
       "1970-01-01 00:00:00.000000000        22521.666667        22608.683333  \n",
       "1970-01-01 00:00:00.000000001        22654.500000        22794.350000  \n",
       "1970-01-01 00:00:00.000000002        22558.333333        22602.966667  \n",
       "1970-01-01 00:00:00.000000003        22725.616667        22784.933333  \n",
       "1970-01-01 00:00:00.000000004        22736.683333        22830.616667  "
      ]
     },
     "execution_count": 18,
     "metadata": {},
     "output_type": "execute_result"
    }
   ],
   "source": [
    "def calculate_support_resistance(data):\n",
    "    pivot_point = (data['high'] + data['low'] + data['close']) / 3\n",
    "    support_l1 = (pivot_point * 2) - data['high']\n",
    "    support_l2 = pivot_point - (data['high'] - data['low'])\n",
    "    resistance_l1 = (pivot_point * 2) - data['low']\n",
    "    resistance_l2 = pivot_point + (data['high'] - data['low'])\n",
    "    \n",
    "    return pivot_point, support_l1, support_l2, resistance_l1, resistance_l2\n",
    "\n",
    "pivot_point, support_l1, support_l2, resistance_l1, resistance_l2 = calculate_support_resistance(nse)\n",
    "\n",
    "# Create a DataFrame to store the calculated levels\n",
    "levels_data = pd.DataFrame({'Pivot Point': pivot_point,\n",
    "                            'Support Level 1': support_l1,\n",
    "                            'Support Level 2': support_l2,\n",
    "                            'Resistance Level 1': resistance_l1,\n",
    "                            'Resistance Level 2': resistance_l2})\n",
    "\n",
    "print(len(levels_data[\"Pivot Point\"]))\n",
    "\n",
    "levels_data.head()"
   ]
  },
  {
   "cell_type": "code",
   "execution_count": null,
   "metadata": {},
   "outputs": [],
   "source": []
  }
 ],
 "metadata": {
  "kernelspec": {
   "display_name": "Python 3",
   "language": "python",
   "name": "python3"
  },
  "language_info": {
   "codemirror_mode": {
    "name": "ipython",
    "version": 3
   },
   "file_extension": ".py",
   "mimetype": "text/x-python",
   "name": "python",
   "nbconvert_exporter": "python",
   "pygments_lexer": "ipython3",
   "version": "3.11.3"
  }
 },
 "nbformat": 4,
 "nbformat_minor": 2
}
