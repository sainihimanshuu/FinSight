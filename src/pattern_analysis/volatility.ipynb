{
 "cells": [
  {
   "cell_type": "code",
   "execution_count": null,
   "metadata": {},
   "outputs": [],
   "source": [
    "%store -r one_year_data_nse\n",
    "%store -r one_year_data_bse"
   ]
  },
  {
   "cell_type": "markdown",
   "metadata": {},
   "source": [
    "bollinger band"
   ]
  },
  {
   "cell_type": "code",
   "execution_count": null,
   "metadata": {},
   "outputs": [],
   "source": [
    "import pandas as pd\n",
    "nse=pd.DataFrame.from_dict(one_year_data_nse)\n",
    "bse=pd.DataFrame.from_dict(one_year_data_bse)\n",
    "datas=[nse, bse]"
   ]
  },
  {
   "cell_type": "code",
   "execution_count": null,
   "metadata": {},
   "outputs": [],
   "source": [
    "import matplotlib.pyplot as plt\n",
    "\n",
    "n=50\n",
    "def BBANDS(data, window=n):\n",
    "    MA = data[\"close\"].rolling(window).mean()\n",
    "    SD = data[\"close\"].rolling(window).std()\n",
    "    data['MiddleBand'] = MA\n",
    "    data['UpperBand'] = MA + (2 * SD) \n",
    "    data['LowerBand'] = MA - (2 * SD)\n",
    "    return data\n",
    "\n",
    "for d in datas:\n",
    "    result = BBANDS(d, n)\n",
    "\n",
    "    plt.figure(figsize=(10,7))\n",
    "\n",
    "    plt.title('Bollinger Bands')\n",
    "    plt.xlabel('Date')\n",
    "    plt.ylabel('Price')\n",
    "\n",
    "    plt.plot(result[\"close\"],lw=1, label='Close Price')\n",
    "    plt.plot(result['UpperBand'],'g',lw=1, label='Upper band')\n",
    "    plt.plot(result['MiddleBand'],'r',lw=1, label='Middle band')\n",
    "    plt.plot(result['LowerBand'],'g', lw=1, label='Lower band')\n",
    "\n",
    "    plt.legend()\n",
    "\n",
    "    plt.show()"
   ]
  }
 ],
 "metadata": {
  "kernelspec": {
   "display_name": "Python 3",
   "language": "python",
   "name": "python3"
  },
  "language_info": {
   "codemirror_mode": {
    "name": "ipython",
    "version": 3
   },
   "file_extension": ".py",
   "mimetype": "text/x-python",
   "name": "python",
   "nbconvert_exporter": "python",
   "pygments_lexer": "ipython3",
   "version": "3.11.3"
  }
 },
 "nbformat": 4,
 "nbformat_minor": 2
}
